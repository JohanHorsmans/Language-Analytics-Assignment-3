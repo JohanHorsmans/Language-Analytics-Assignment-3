{
 "cells": [
  {
   "cell_type": "markdown",
   "metadata": {},
   "source": [
    "This is a dataset of over a million headlines taken from the Australian news source ABC (Start Date: 2003-02-19 ; End Date: 2020-12-31).\n",
    "\n",
    "- Calculate the sentiment score for every headline in the data. You can do this using the spaCyTextBlob approach that we covered in class or any other dictionary-based approach in Python.\n",
    "- Create and save a plot of sentiment over time with a 1-week rolling average\n",
    "- Create and save a plot of sentiment over time with a 1-month rolling average\n",
    "- Make sure that you have clear values on the x-axis and that you include the following: a plot title; labels for the x and y axes; and a legend for the plot\n",
    "- Write a short summary (no more than a paragraph) describing what the two plots show. You should mention the following points: 1) What (if any) are the general trends? 2) What (if any) inferences might you draw from them?\n",
    "\n",
    "\n",
    "- HINT: You'll probably want to calculate an average score for each day first, before calculating the rolling averages for weeks and months.\n",
    "\n",
    "\n",
    "__General instructions__\n",
    "\n",
    "- For this assignment, you should upload a standalone .py script which can be executed from the command line or a Jupyter Notebook\n",
    "- Save your script as sentiment.py or sentiment.ipynb\n",
    "- Make sure to include a requirements.txt file and details about where to find the data\n",
    "- You can either upload the scripts here or push to GitHub and include a link - or both!\n",
    "- Your code should be clearly documented in a way that allows others to easily follow the structure of your script and to use them from the command line\n",
    "\n",
    "\n",
    "__Purpose__\n",
    "\n",
    "This assignment is designed to test that you have a understanding of:\n",
    "\n",
    "- how to perform dictionary-based sentiment analysis in Python;\n",
    "- how to effectively use pandas and spaCy in a simple NLP workflow;\n",
    "- how to present results visually, working with datetime formats to show trends over time"
   ]
  },
  {
   "cell_type": "code",
   "execution_count": 23,
   "metadata": {},
   "outputs": [],
   "source": [
    "import os #For integrating with operating systems\n",
    "import spacy #For performing nlp-tasks\n",
    "import pandas as pd #For creating dataframes\n",
    "import matplotlib.pyplot as plt #For creating plots\n",
    "from spacytextblob.spacytextblob import SpacyTextBlob #For sentiment analysis.\n",
    "\n",
    "#Initialize spaCy\n",
    "nlp = spacy.load(\"en_core_web_sm\")\n",
    "#Initialize spaCy text blob and add is a component to the spaCy nlp-pipeline\n",
    "spacy_text_blob = SpacyTextBlob()\n",
    "nlp.add_pipe(spacy_text_blob)"
   ]
  },
  {
   "cell_type": "code",
   "execution_count": 2,
   "metadata": {},
   "outputs": [],
   "source": [
    "in_file = os.path.join(\"..\", \"data\", \"headlines\", \"abcnews-date-text.csv\") #Specify path to data."
   ]
  },
  {
   "cell_type": "code",
   "execution_count": 3,
   "metadata": {},
   "outputs": [],
   "source": [
    "headlines = pd.read_csv(in_file) #Read the .csv-file as a dataframe called 'headlines'."
   ]
  },
  {
   "cell_type": "code",
   "execution_count": 4,
   "metadata": {},
   "outputs": [
    {
     "data": {
      "text/html": [
       "<div>\n",
       "<style scoped>\n",
       "    .dataframe tbody tr th:only-of-type {\n",
       "        vertical-align: middle;\n",
       "    }\n",
       "\n",
       "    .dataframe tbody tr th {\n",
       "        vertical-align: top;\n",
       "    }\n",
       "\n",
       "    .dataframe thead th {\n",
       "        text-align: right;\n",
       "    }\n",
       "</style>\n",
       "<table border=\"1\" class=\"dataframe\">\n",
       "  <thead>\n",
       "    <tr style=\"text-align: right;\">\n",
       "      <th></th>\n",
       "      <th>publish_date</th>\n",
       "      <th>headline_text</th>\n",
       "    </tr>\n",
       "  </thead>\n",
       "  <tbody>\n",
       "    <tr>\n",
       "      <th>1085797</th>\n",
       "      <td>20170613</td>\n",
       "      <td>sri lanka reportedly agrees to look for confli...</td>\n",
       "    </tr>\n",
       "    <tr>\n",
       "      <th>385904</th>\n",
       "      <td>20080526</td>\n",
       "      <td>aust marks 10th sorry day</td>\n",
       "    </tr>\n",
       "    <tr>\n",
       "      <th>520818</th>\n",
       "      <td>20100221</td>\n",
       "      <td>man drowns after being caught in rip</td>\n",
       "    </tr>\n",
       "    <tr>\n",
       "      <th>69853</th>\n",
       "      <td>20040201</td>\n",
       "      <td>police search for man after cemetery assault</td>\n",
       "    </tr>\n",
       "    <tr>\n",
       "      <th>260788</th>\n",
       "      <td>20060919</td>\n",
       "      <td>bank teller jailed for stealing customers money</td>\n",
       "    </tr>\n",
       "  </tbody>\n",
       "</table>\n",
       "</div>"
      ],
      "text/plain": [
       "         publish_date                                      headline_text\n",
       "1085797      20170613  sri lanka reportedly agrees to look for confli...\n",
       "385904       20080526                          aust marks 10th sorry day\n",
       "520818       20100221               man drowns after being caught in rip\n",
       "69853        20040201       police search for man after cemetery assault\n",
       "260788       20060919    bank teller jailed for stealing customers money"
      ]
     },
     "execution_count": 4,
     "metadata": {},
     "output_type": "execute_result"
    }
   ],
   "source": [
    "headlines.sample(5) #Print 5 values from the 'headlines'-dataframe (sanity check)"
   ]
  },
  {
   "cell_type": "markdown",
   "metadata": {},
   "source": [
    "__Calculate sentiment__"
   ]
  },
  {
   "cell_type": "code",
   "execution_count": 5,
   "metadata": {},
   "outputs": [],
   "source": [
    "headlines['publish_date'] = pd.to_datetime(headlines.publish_date, format=\"%Y%m%d\") #Converting the publish_date to a datetime format. Following the output above I specify that the dates are arranged as years, months, days (%Y%m%d). Y is upper case since the year is specified with century (i.e. four numbers).  \n",
    "headlines = headlines.sort_values(\"publish_date\") #Sorting the dates in chronological order."
   ]
  },
  {
   "cell_type": "code",
   "execution_count": 6,
   "metadata": {},
   "outputs": [
    {
     "data": {
      "text/plain": [
       "1226258"
      ]
     },
     "execution_count": 6,
     "metadata": {},
     "output_type": "execute_result"
    }
   ],
   "source": [
    "len(headlines) #Printing the lenght of the dataframe (i.e. the amount of comments in the dataset)."
   ]
  },
  {
   "cell_type": "code",
   "execution_count": 7,
   "metadata": {},
   "outputs": [],
   "source": [
    "headlines = headlines.sample(100000) #To reduce processing time, I take a sample of 100.000 comments. If you wish to process the full data just remove this line of code."
   ]
  },
  {
   "cell_type": "code",
   "execution_count": 8,
   "metadata": {},
   "outputs": [
    {
     "name": "stdout",
     "output_type": "stream",
     "text": [
      "CPU times: user 3min 6s, sys: 86.6 ms, total: 3min 6s\n",
      "Wall time: 3min 6s\n"
     ]
    }
   ],
   "source": [
    "#%%time #Specify that I want to print the time it takes me to run the cell.\n",
    "\n",
    "sentiment_scores = [] #Define empty list for sentiment-scores.\n",
    "\n",
    "for doc in nlp.pipe(headlines[\"headline_text\"], batch_size=500): #For each headline in the headline_text column (iterated chronologically)...\n",
    "    score = doc._.sentiment.polarity #... calculate text polarity and save it as 'score'...\n",
    "    sentiment_scores.append(score) #... append 'score' to the 'sentiment_scores'-list"
   ]
  },
  {
   "cell_type": "code",
   "execution_count": 9,
   "metadata": {},
   "outputs": [
    {
     "data": {
      "text/plain": [
       "100000"
      ]
     },
     "execution_count": 9,
     "metadata": {},
     "output_type": "execute_result"
    }
   ],
   "source": [
    "len(sentiment_scores) #Ensuring that the code worked (sanity check)."
   ]
  },
  {
   "cell_type": "code",
   "execution_count": 11,
   "metadata": {},
   "outputs": [],
   "source": [
    "#Append list with the sentiment score into pandas dataframe\n",
    "headlines[\"sentiment_score\"] = sentiment_scores"
   ]
  },
  {
   "cell_type": "code",
   "execution_count": 12,
   "metadata": {},
   "outputs": [
    {
     "data": {
      "text/html": [
       "<div>\n",
       "<style scoped>\n",
       "    .dataframe tbody tr th:only-of-type {\n",
       "        vertical-align: middle;\n",
       "    }\n",
       "\n",
       "    .dataframe tbody tr th {\n",
       "        vertical-align: top;\n",
       "    }\n",
       "\n",
       "    .dataframe thead th {\n",
       "        text-align: right;\n",
       "    }\n",
       "</style>\n",
       "<table border=\"1\" class=\"dataframe\">\n",
       "  <thead>\n",
       "    <tr style=\"text-align: right;\">\n",
       "      <th></th>\n",
       "      <th>publish_date</th>\n",
       "      <th>headline_text</th>\n",
       "      <th>sentiment_score</th>\n",
       "    </tr>\n",
       "  </thead>\n",
       "  <tbody>\n",
       "    <tr>\n",
       "      <th>688949</th>\n",
       "      <td>2012-04-20</td>\n",
       "      <td>dancing robot wows crowd</td>\n",
       "      <td>0.000000</td>\n",
       "    </tr>\n",
       "    <tr>\n",
       "      <th>1013624</th>\n",
       "      <td>2016-03-02</td>\n",
       "      <td>super tuesday trump clinton score super tuesda...</td>\n",
       "      <td>0.322222</td>\n",
       "    </tr>\n",
       "    <tr>\n",
       "      <th>938826</th>\n",
       "      <td>2015-03-18</td>\n",
       "      <td>hayward jones dont turn away from vanuatu's de...</td>\n",
       "      <td>0.000000</td>\n",
       "    </tr>\n",
       "    <tr>\n",
       "      <th>60731</th>\n",
       "      <td>2003-12-12</td>\n",
       "      <td>dying man wins workplace compo claim</td>\n",
       "      <td>0.300000</td>\n",
       "    </tr>\n",
       "    <tr>\n",
       "      <th>2437</th>\n",
       "      <td>2003-03-02</td>\n",
       "      <td>man arrested with mortar at kuwait hotel released</td>\n",
       "      <td>0.000000</td>\n",
       "    </tr>\n",
       "  </tbody>\n",
       "</table>\n",
       "</div>"
      ],
      "text/plain": [
       "        publish_date                                      headline_text  \\\n",
       "688949    2012-04-20                           dancing robot wows crowd   \n",
       "1013624   2016-03-02  super tuesday trump clinton score super tuesda...   \n",
       "938826    2015-03-18  hayward jones dont turn away from vanuatu's de...   \n",
       "60731     2003-12-12               dying man wins workplace compo claim   \n",
       "2437      2003-03-02  man arrested with mortar at kuwait hotel released   \n",
       "\n",
       "         sentiment_score  \n",
       "688949          0.000000  \n",
       "1013624         0.322222  \n",
       "938826          0.000000  \n",
       "60731           0.300000  \n",
       "2437            0.000000  "
      ]
     },
     "execution_count": 12,
     "metadata": {},
     "output_type": "execute_result"
    }
   ],
   "source": [
    "headlines.sample(5) #(sanity check)"
   ]
  },
  {
   "cell_type": "code",
   "execution_count": 13,
   "metadata": {},
   "outputs": [],
   "source": [
    "#Compute mean sentiment score for week and month\n",
    "mean_week = headlines.resample(\"w\",on =\"publish_date\").mean()\n",
    "mean_month = headlines.resample(\"m\",on =\"publish_date\").mean()"
   ]
  },
  {
   "cell_type": "code",
   "execution_count": 14,
   "metadata": {},
   "outputs": [
    {
     "name": "stdout",
     "output_type": "stream",
     "text": [
      "              sentiment_score\n",
      "publish_date                 \n",
      "2003-02-23           0.004573\n",
      "2003-03-02           0.041749\n",
      "2003-03-09           0.027209\n",
      "2003-03-16           0.010174\n",
      "2003-03-23           0.028953\n",
      "...                       ...\n",
      "2020-12-06           0.012420\n",
      "2020-12-13           0.005134\n",
      "2020-12-20           0.032329\n",
      "2020-12-27           0.021744\n",
      "2021-01-03           0.027066\n",
      "\n",
      "[933 rows x 1 columns]\n",
      "              sentiment_score\n",
      "publish_date                 \n",
      "2003-02-28           0.013679\n",
      "2003-03-31           0.030971\n",
      "2003-04-30           0.023514\n",
      "2003-05-31           0.028202\n",
      "2003-06-30           0.013187\n",
      "...                       ...\n",
      "2020-08-31           0.002336\n",
      "2020-09-30           0.022215\n",
      "2020-10-31           0.021449\n",
      "2020-11-30           0.047005\n",
      "2020-12-31           0.019685\n",
      "\n",
      "[215 rows x 1 columns]\n"
     ]
    }
   ],
   "source": [
    "print(mean_week) #Sanity check\n",
    "print(mean_month) #Sanity check"
   ]
  },
  {
   "cell_type": "markdown",
   "metadata": {},
   "source": [
    "__As we can see from the above output, `mean_week` contains weekly averages of sentiment scores whereas `mean_month` contains monthly averages.__"
   ]
  },
  {
   "cell_type": "code",
   "execution_count": 15,
   "metadata": {},
   "outputs": [
    {
     "data": {
      "image/png": "[encoded data removed]",
      "text/plain": [
       "<Figure size 432x288 with 1 Axes>"
      ]
     },
     "metadata": {
      "needs_background": "light"
     },
     "output_type": "display_data"
    }
   ],
   "source": [
    "#Make plot of the weekly rolling mean of sentiment scores\n",
    "week_plot = mean_week.plot(\n",
    "    ylabel = \"Sentiment Score\", #Define the label for the y-axis.\n",
    "    xlabel = \"Date\", #Define the label for the x-axis.\n",
    "    ylim = (-0.2,0.2), #Set the window size on the y-axis.\n",
    "    title = \"Weekly rolling mean of sentiment scores\") #Plot title"
   ]
  },
  {
   "cell_type": "code",
   "execution_count": 19,
   "metadata": {},
   "outputs": [],
   "source": [
    "#Save week_plot.\n",
    "mean_week_plot = week_plot.get_figure()\n",
    "mean_week_plot.savefig(os.path.join(\"..\", \"data\", \"mean_week_plot\"))"
   ]
  },
  {
   "cell_type": "code",
   "execution_count": 21,
   "metadata": {},
   "outputs": [
    {
     "data": {
      "image/png": "[encoded data removed]",
      "text/plain": [
       "<Figure size 432x288 with 1 Axes>"
      ]
     },
     "metadata": {
      "needs_background": "light"
     },
     "output_type": "display_data"
    }
   ],
   "source": [
    "#Make plot of the monthly rolling mean of sentiment scores\n",
    "month_plot = mean_month.plot(\n",
    "    ylabel = \"Sentiment Score\",\n",
    "    xlabel = \"Date\",\n",
    "     ylim = (-0.2,0.2),\n",
    "    title = \"Monthly rolling mean of sentiment scores\")"
   ]
  },
  {
   "cell_type": "code",
   "execution_count": 22,
   "metadata": {},
   "outputs": [],
   "source": [
    "mean_month_plot = month_plot.get_figure()\n",
    "mean_month_plot.savefig(os.path.join(\"..\", \"data\", \"mean_month_plot\"))"
   ]
  },
  {
   "cell_type": "markdown",
   "metadata": {},
   "source": [
    "__Plot inferences__\n",
    "\n",
    "The two plots show that the news data is generally positive (Sentiment score > 0) in spite of the fluctuations on a weekly/monthly basis. We see that the variance in sentiment scores is larger on a weekly basis than on a monthly basis, indicating that the variance seen from week to week is quite similar in both directions and thus, to a certain extent, cancels each other out when analysed on a monthly basis."
   ]
  },
  {
   "cell_type": "code",
   "execution_count": 25,
   "metadata": {},
   "outputs": [],
   "source": [
    "headlines.to_csv(os.path.join(\"..\", \"data\", \"sentiment.csv\")) #Write the dataframe as a .csv-file called 'file1'."
   ]
  }
 ],
 "metadata": {
  "kernelspec": {
   "display_name": "lang101",
   "language": "python",
   "name": "lang101"
  },
  "language_info": {
   "codemirror_mode": {
    "name": "ipython",
    "version": 3
   },
   "file_extension": ".py",
   "mimetype": "text/x-python",
   "name": "python",
   "nbconvert_exporter": "python",
   "pygments_lexer": "ipython3",
   "version": "3.6.9"
  }
 },
 "nbformat": 4,
 "nbformat_minor": 4
}
